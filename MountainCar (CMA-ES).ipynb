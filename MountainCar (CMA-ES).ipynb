{
 "cells": [
  {
   "cell_type": "markdown",
   "id": "21d0dc01-59d9-4700-8238-40ce36b44319",
   "metadata": {},
   "source": [
    "# Covariance Matrix Adaptation Evolution Strategy (CMA-ES)\n",
    "\n",
    "### 📦 Libraries\n",
    "```\n",
    "!pip install cma\n"
   ]
  },
  {
   "cell_type": "markdown",
   "id": "19415867-f32b-4237-9666-2433f7889675",
   "metadata": {},
   "source": [
    "### Policy Network for CMA-ES in Gym Environment\n",
    "\n",
    "In this section, we define a simple policy network using PyTorch. The `PolicyNetwork` class is a neural network that takes the state of the environment as input and outputs an action to be taken. \n",
    "\n",
    "#### Key Components:\n",
    "- **Initialization**: The network consists of two fully connected layers. The first layer transforms the input state to a hidden representation, and the second layer outputs the action.\n",
    "- **Activation Functions**: We use the ReLU activation function for the hidden layer to introduce non-linearity, and the `tanh` function for the output layer to ensure that the actions are bounded between -1 and 1.\n",
    "- **Action Retrieval**: The `get_action` method takes a state as input, processes it through the network, and returns the corresponding action.\n",
    "\n",
    "This network will be used in conjunction with the Covariance Matrix Adaptation Evolution Strategy (CMA-ES) to optimize the policy for a given Gym environment.\n"
   ]
  },
  {
   "cell_type": "code",
   "execution_count": 1,
   "id": "0ab4267e-64c0-4065-9115-e31bda918784",
   "metadata": {},
   "outputs": [
    {
     "name": "stdout",
     "output_type": "stream",
     "text": [
      "State dimension: 2 | Action dimension: 1\n"
     ]
    }
   ],
   "source": [
    "import gym\n",
    "\n",
    "\n",
    "# Create the Mountain Car Continuous environment\n",
    "env = gym.make('MountainCarContinuous-v0')\n",
    "\n",
    "state_dim = env.observation_space.shape[0]  # Number of state variables\n",
    "action_dim = env.action_space.shape[0]      # Number of action variables\n",
    "\n",
    "print(f\"State dimension: {state_dim} | Action dimension: {action_dim}\")"
   ]
  },
  {
   "cell_type": "code",
   "execution_count": 2,
   "id": "abed4895-d461-475b-84a5-e9264256b635",
   "metadata": {},
   "outputs": [],
   "source": [
    "import torch\n",
    "import torch.nn as nn\n",
    "import torch.nn.functional as F\n",
    "\n",
    "class PolicyNetwork(nn.Module):\n",
    "    def __init__(self, state_dim, action_dim):\n",
    "        super(PolicyNetwork, self).__init__()\n",
    "        self.fc1 = nn.Linear(state_dim, 16)\n",
    "        self.fc2 = nn.Linear(16, action_dim)  # Single output\n",
    "\n",
    "    def forward(self, x):\n",
    "        x = F.relu(self.fc1(x))\n",
    "        return torch.tanh(self.fc2(x))  # Use tanh to bound actions in [-1, 1]\n",
    "\n",
    "    def get_action(self, state):\n",
    "        state = torch.FloatTensor(state).unsqueeze(0).to(device)\n",
    "        action = self.forward(state).cpu().detach().numpy().flatten()\n",
    "        return action"
   ]
  },
  {
   "cell_type": "code",
   "execution_count": 3,
   "id": "62945ef7-4232-4e4c-a0d4-b0236e1f01a9",
   "metadata": {},
   "outputs": [
    {
     "name": "stdout",
     "output_type": "stream",
     "text": [
      "Using device: cuda\n"
     ]
    }
   ],
   "source": [
    "# Check if CUDA is available\n",
    "device = torch.device(\"cuda\" if torch.cuda.is_available() else \"cpu\")\n",
    "print(f\"Using device: {device}\")\n",
    "\n",
    "# Initialize the policy network with the appropriate dimensions\n",
    "policy_net = PolicyNetwork(state_dim, action_dim).to(device)"
   ]
  },
  {
   "cell_type": "markdown",
   "id": "ae38cf93-3f78-4e0b-9e58-52fa4d6fd1d5",
   "metadata": {},
   "source": [
    "### Policy Evaluation Function\n",
    "\n",
    "This function evaluates the policy using specified parameters in a given environment.\n",
    "\n",
    "#### Overview:\n",
    "- **Parameters**:\n",
    "  - `params`: Flattened array of parameters for the policy network.\n",
    "  - `env`: The Gym environment for evaluation.\n",
    "  - `policy_net`: The policy network to evaluate.\n",
    "  - `max_steps`: Maximum steps to take during evaluation.\n",
    "\n",
    "- **Process**:\n",
    "  1. Apply the flattened parameters to the policy network.\n",
    "  2. Reset the environment to obtain the initial state.\n",
    "  3. Generate actions based on the current state and accumulate rewards until termination or the maximum step limit is reached.\n",
    "  4. Return the total reward and the number of steps taken.\n",
    "\n",
    "This function is crucial for assessing the performance of the policy network in the specified environment.\n"
   ]
  },
  {
   "cell_type": "code",
   "execution_count": 4,
   "id": "aa7ca22b-c7ac-46c6-b6a0-8ebd1ec2f63b",
   "metadata": {},
   "outputs": [],
   "source": [
    "def evaluate_policy(params, env, policy_net, max_steps=3000):\n",
    "    \"\"\"\n",
    "    Evaluate the policy using the given parameters in the specified environment.\n",
    "\n",
    "    Parameters:\n",
    "    - params: Flattened parameters for the policy network\n",
    "    - env: The Gym environment to evaluate the policy in\n",
    "    - policy_net: The policy network to be evaluated\n",
    "    - max_steps: Maximum number of steps to take in the environment\n",
    "\n",
    "    Returns:\n",
    "    - total_reward: Total reward accumulated during the evaluation\n",
    "    - steps: Number of steps taken before termination\n",
    "    \"\"\"\n",
    "    # Apply parameters to the policy network\n",
    "    flat_params = torch.tensor(params, dtype=torch.float32).to(device)\n",
    "    with torch.no_grad():\n",
    "        start = 0\n",
    "        for param in policy_net.parameters():\n",
    "            end = start + param.numel()  # Calculate the end index for the current parameter\n",
    "            param.copy_(flat_params[start:end].view(param.size()))  # Update parameter values\n",
    "            start = end  # Move to the next parameter\n",
    "\n",
    "    total_reward = 0.0  # Initialize total reward\n",
    "    state, _ = env.reset()  # Reset the environment and get the initial state\n",
    "    num_steps = 0  # Initialize step counter\n",
    "    \n",
    "    while True:\n",
    "        action = policy_net.get_action(state)  # Get action from the policy network\n",
    "        state, reward, done, _, _ = env.step(action)  # Take action in the environment\n",
    "        total_reward += reward  # Accumulate reward\n",
    "        num_steps += 1  # Increment step counter\n",
    "        \n",
    "        # Check for termination conditions\n",
    "        if done or num_steps > max_steps:\n",
    "            break\n",
    "    \n",
    "    return total_reward, num_steps  # Return total reward and number of steps taken\n"
   ]
  },
  {
   "cell_type": "markdown",
   "id": "80c2608b-d308-4305-96da-10fb4cc29cda",
   "metadata": {},
   "source": [
    "### CMA-ES Training Loop\n",
    "\n",
    "This section implements the training loop for the Covariance Matrix Adaptation Evolution Strategy (CMA-ES) to optimize the policy network.\n",
    "\n",
    "#### Overview:\n",
    "- **Initialization**: Lists for best, worst, and mean rewards are created, and CMA-ES is initialized with the policy network's parameters.\n",
    "  \n",
    "- **Training Process**:\n",
    "  1. For each generation (up to 100):\n",
    "     - Generate candidate solutions and evaluate their rewards.\n",
    "     - Update CMA-ES with the negated rewards.\n",
    "     - Collect statistics for the current generation.\n",
    "     - Evaluate and print the best solution found.\n",
    "  \n",
    "  2. A stopping criterion is defined based on achieving a reward threshold of 96 for the `MountainCarContinuous-v0` environment.\n",
    "\n",
    "This loop enables the policy network to evolve and improve its performance over multiple generations.\n"
   ]
  },
  {
   "cell_type": "code",
   "execution_count": 17,
   "id": "dbc21462-36d7-4bf8-96dc-7cf048d3f73d",
   "metadata": {},
   "outputs": [],
   "source": [
    "import cma\n",
    "import numpy as np\n",
    "import pandas as pd\n",
    "import plotly.express as px\n",
    "\n",
    "def train_cma_es(policy_net, env, max_generations=100, reward_threshold=97):\n",
    "    # Initialize statistics lists\n",
    "    metrics = {\n",
    "        'generation': [],\n",
    "        'best_reward': [],\n",
    "        'worst_reward': [],\n",
    "        'mean_reward': [],\n",
    "        'steps': []\n",
    "    }\n",
    "\n",
    "    # Initialize CMA-ES with the policy network's initial parameters\n",
    "    initial_params = torch.nn.utils.parameters_to_vector(policy_net.parameters()).detach().cpu().numpy()\n",
    "    es = cma.CMAEvolutionStrategy(initial_params, 0.5)\n",
    "\n",
    "    # Training loop for up to max_generations\n",
    "    for generation in range(max_generations):\n",
    "        solutions = es.ask()  # Generate candidate solutions\n",
    "        rewards = []\n",
    "        \n",
    "        for solution in solutions:\n",
    "            # Update policy network parameters and evaluate\n",
    "            torch.nn.utils.vector_to_parameters(torch.tensor(solution, dtype=torch.float32).to(device), policy_net.parameters())\n",
    "            reward, st = evaluate_policy(solution, env, policy_net)\n",
    "            rewards.append(reward)\n",
    "        \n",
    "        es.tell(solutions, [-r for r in rewards])  # Update CMA-ES with negated rewards\n",
    "        es.disp()  # Display CMA-ES status\n",
    "        \n",
    "        # Collect statistics\n",
    "        metrics['generation'].append(generation)\n",
    "        metrics['best_reward'].append(max(rewards))\n",
    "        metrics['worst_reward'].append(min(rewards))\n",
    "        metrics['mean_reward'].append(np.mean(rewards))\n",
    "        \n",
    "        # Evaluate the best solution\n",
    "        best_solution = es.result.xbest\n",
    "        torch.nn.utils.vector_to_parameters(torch.tensor(best_solution, dtype=torch.float32).to(device), policy_net.parameters())\n",
    "        best_reward, stp = evaluate_policy(best_solution, env, policy_net)\n",
    "        metrics['steps'].append(stp)\n",
    "        print(f\"Generation {generation}: Best Reward: {best_reward} | Steps: {stp}\")\n",
    "\n",
    "        # Stopping criterion\n",
    "        if best_reward >= reward_threshold:  # Threshold for MountainCarContinuous-v0\n",
    "            break\n",
    "\n",
    "    return metrics, best_solution\n"
   ]
  },
  {
   "cell_type": "code",
   "execution_count": 8,
   "id": "3ec89f88-7cfd-4e24-b120-3b4ae4f81543",
   "metadata": {
    "scrolled": true
   },
   "outputs": [
    {
     "name": "stdout",
     "output_type": "stream",
     "text": [
      "(8_w,16)-aCMA-ES (mu_w=4.8,w_1=32%) in dimension 65 (seed=429469, Thu Aug 22 17:02:30 2024)\n",
      "Iterat #Fevals   function value  axis ratio  sigma  min&max std  t[m:s]\n",
      "    1     16 -6.818823762358554e+01 1.0e+00 4.75e-01  5e-01  5e-01 0:08.0\n",
      "Generation 0: Best Reward: -18.88602172410946 | Steps: 3001\n",
      "    2     32 -8.080884338993511e+01 1.0e+00 4.54e-01  5e-01  5e-01 0:16.2\n",
      "Generation 1: Best Reward: 81.98980967124015 | Steps: 1758\n",
      "    3     48 -6.248644235072485e+01 1.0e+00 4.45e-01  4e-01  4e-01 0:23.8\n",
      "Generation 2: Best Reward: 79.05661149546195 | Steps: 1581\n",
      "    4     64 -4.724998688227066e+01 1.1e+00 4.37e-01  4e-01  4e-01 0:31.8\n",
      "Generation 3: Best Reward: 82.41907412520638 | Steps: 1586\n",
      "    5     80 -7.872297283210926e+01 1.1e+00 4.26e-01  4e-01  4e-01 0:38.5\n",
      "Generation 4: Best Reward: 77.9497937819159 | Steps: 1801\n",
      "    6     96 -7.581921342467265e+01 1.1e+00 4.16e-01  4e-01  4e-01 0:44.2\n",
      "Generation 5: Best Reward: 80.5835996538988 | Steps: 1894\n",
      "    7    112 -7.409313872905439e+01 1.1e+00 4.10e-01  4e-01  4e-01 0:51.0\n",
      "Generation 6: Best Reward: 81.41589728315587 | Steps: 1761\n",
      "Generation 7: Best Reward: 90.40388354348116 | Steps: 2148\n",
      "    9    144 -8.280585185686544e+01 1.1e+00 4.06e-01  4e-01  4e-01 1:03.1\n",
      "Generation 8: Best Reward: 91.56374003810993 | Steps: 2365\n",
      "Generation 9: Best Reward: 92.43117895109484 | Steps: 2150\n",
      "   11    176 -9.429625668696427e+01 1.1e+00 4.10e-01  4e-01  4e-01 1:13.0\n",
      "Generation 10: Best Reward: 93.07541810415195 | Steps: 428\n",
      "Generation 11: Best Reward: 95.6972306001052 | Steps: 460\n",
      "   13    208 -9.190341074925509e+01 1.1e+00 4.19e-01  4e-01  4e-01 1:23.2\n",
      "Generation 12: Best Reward: 95.56513924502107 | Steps: 799\n",
      "Generation 13: Best Reward: 93.44245653046735 | Steps: 461\n",
      "   15    240 -9.268105733619321e+01 1.2e+00 4.26e-01  4e-01  4e-01 1:33.6\n",
      "Generation 14: Best Reward: 93.82009134868258 | Steps: 526\n",
      "Generation 15: Best Reward: 90.26775951612902 | Steps: 927\n",
      "   17    272 -9.443519168430730e+01 1.2e+00 4.25e-01  4e-01  4e-01 1:44.8\n",
      "Generation 16: Best Reward: 94.7774817486321 | Steps: 374\n",
      "Generation 17: Best Reward: 94.71267754390767 | Steps: 1022\n",
      "Generation 18: Best Reward: 94.61519345369743 | Steps: 579\n",
      "   20    320 -9.074929003474507e+01 1.2e+00 4.16e-01  4e-01  4e-01 2:02.1\n",
      "Generation 19: Best Reward: 92.74187480103468 | Steps: 807\n",
      "Generation 20: Best Reward: 94.66218289549153 | Steps: 542\n",
      "Generation 21: Best Reward: 93.45921868970035 | Steps: 473\n",
      "   23    368 -9.665753619463145e+01 1.2e+00 4.10e-01  4e-01  4e-01 2:18.9\n",
      "Generation 22: Best Reward: 94.05985426224797 | Steps: 444\n",
      "Generation 23: Best Reward: 96.58029482341469 | Steps: 423\n",
      "Generation 24: Best Reward: 96.40085074757987 | Steps: 315\n",
      "   26    416 -8.410398786048948e+01 1.2e+00 3.91e-01  4e-01  4e-01 2:34.5\n",
      "Generation 25: Best Reward: 96.88100895492268 | Steps: 316\n",
      "Generation 26: Best Reward: 94.76104032396196 | Steps: 470\n",
      "Generation 27: Best Reward: 94.53241825102455 | Steps: 578\n",
      "Generation 28: Best Reward: 96.30872617217089 | Steps: 601\n",
      "   30    480 -9.559333813199031e+01 1.3e+00 3.84e-01  4e-01  4e-01 2:52.0\n",
      "Generation 29: Best Reward: 93.65958573466044 | Steps: 628\n",
      "Generation 30: Best Reward: 95.61270325947673 | Steps: 391\n",
      "Generation 31: Best Reward: 96.67376481662897 | Steps: 606\n",
      "   33    528 -8.799313396952331e+01 1.3e+00 3.80e-01  4e-01  4e-01 3:10.8\n",
      "Generation 32: Best Reward: 96.52162016151784 | Steps: 495\n",
      "Generation 33: Best Reward: 96.57747612641512 | Steps: 459\n",
      "Generation 34: Best Reward: 95.91143221243709 | Steps: 602\n",
      "Generation 35: Best Reward: 96.29205846602967 | Steps: 352\n",
      "   37    592 -9.432147922687638e+01 1.3e+00 3.72e-01  4e-01  4e-01 3:28.8\n",
      "Generation 36: Best Reward: 96.82688758013792 | Steps: 316\n",
      "Generation 37: Best Reward: 93.64682077891466 | Steps: 941\n",
      "Generation 38: Best Reward: 95.69148212981257 | Steps: 355\n",
      "Generation 39: Best Reward: 95.20093184677079 | Steps: 536\n",
      "Generation 40: Best Reward: 94.91528167335463 | Steps: 433\n",
      "   42    672 -9.600321424817884e+01 1.4e+00 3.61e-01  4e-01  4e-01 3:49.9\n",
      "Generation 41: Best Reward: 96.74530961597178 | Steps: 315\n",
      "Generation 42: Best Reward: 96.53387206572246 | Steps: 709\n",
      "Generation 43: Best Reward: 93.96069709355396 | Steps: 517\n",
      "Generation 44: Best Reward: 93.90999823514244 | Steps: 832\n",
      "Generation 45: Best Reward: 96.52456690919 | Steps: 423\n",
      "Generation 46: Best Reward: 96.40732213596634 | Steps: 566\n",
      "   48    768 -9.305187463914010e+01 1.4e+00 3.70e-01  4e-01  4e-01 4:13.4\n",
      "Generation 47: Best Reward: 95.38697646534145 | Steps: 393\n",
      "Generation 48: Best Reward: 94.44107613681284 | Steps: 790\n",
      "Generation 49: Best Reward: 94.81535592823056 | Steps: 610\n",
      "Generation 50: Best Reward: 95.94550475331236 | Steps: 389\n",
      "Generation 51: Best Reward: 95.09841178566872 | Steps: 431\n",
      "Generation 52: Best Reward: 95.94439150585748 | Steps: 637\n",
      "   54    864 -9.269824598652495e+01 1.4e+00 3.77e-01  4e-01  4e-01 4:36.5\n",
      "Generation 53: Best Reward: 95.98251830985376 | Steps: 389\n",
      "Generation 54: Best Reward: 96.39160511361405 | Steps: 388\n",
      "Generation 55: Best Reward: 96.92146989549917 | Steps: 318\n",
      "Generation 56: Best Reward: 95.69078231223912 | Steps: 497\n",
      "Generation 57: Best Reward: 96.88782239369581 | Steps: 317\n",
      "Generation 58: Best Reward: 93.95629492855605 | Steps: 622\n",
      "   60    960 -9.463767194383398e+01 1.5e+00 3.54e-01  3e-01  4e-01 5:00.5\n",
      "Generation 59: Best Reward: 95.81976068653492 | Steps: 779\n",
      "Generation 60: Best Reward: 93.71095546233127 | Steps: 418\n",
      "Generation 61: Best Reward: 95.41546281354918 | Steps: 499\n",
      "Generation 62: Best Reward: 95.48565748938877 | Steps: 569\n",
      "Generation 63: Best Reward: 96.68364289283365 | Steps: 571\n",
      "Generation 64: Best Reward: 96.1506753126114 | Steps: 388\n",
      "   66   1056 -9.623718011707285e+01 1.5e+00 3.47e-01  3e-01  4e-01 5:25.2\n",
      "Generation 65: Best Reward: 96.37410555582109 | Steps: 352\n",
      "Generation 66: Best Reward: 94.03505325868433 | Steps: 481\n",
      "Generation 67: Best Reward: 96.466561127268 | Steps: 352\n",
      "Generation 68: Best Reward: 94.71662691527611 | Steps: 1038\n",
      "Generation 69: Best Reward: 96.38200984620525 | Steps: 494\n",
      "Generation 70: Best Reward: 96.81830995776251 | Steps: 429\n",
      "Generation 71: Best Reward: 94.8736978295191 | Steps: 362\n",
      "   73   1168 -9.321206341069396e+01 1.5e+00 3.37e-01  3e-01  3e-01 5:50.7\n",
      "Generation 72: Best Reward: 96.26682254088355 | Steps: 459\n",
      "Generation 73: Best Reward: 96.82636226398476 | Steps: 326\n",
      "Generation 74: Best Reward: 95.23176967593372 | Steps: 430\n",
      "Generation 75: Best Reward: 96.82531351944168 | Steps: 326\n",
      "Generation 76: Best Reward: 93.41478395504481 | Steps: 494\n",
      "Generation 77: Best Reward: 94.61443526053824 | Steps: 577\n",
      "Generation 78: Best Reward: 96.61565254600822 | Steps: 459\n",
      "   80   1280 -9.334396817204812e+01 1.5e+00 3.34e-01  3e-01  3e-01 6:18.0\n",
      "Generation 79: Best Reward: 95.24771173931374 | Steps: 818\n",
      "Generation 80: Best Reward: 96.56494531969479 | Steps: 637\n",
      "Generation 81: Best Reward: 96.31521615441618 | Steps: 530\n",
      "Generation 82: Best Reward: 96.76207853136744 | Steps: 426\n",
      "Generation 83: Best Reward: 96.57446118180593 | Steps: 387\n",
      "Generation 84: Best Reward: 96.80835220347588 | Steps: 425\n",
      "Generation 85: Best Reward: 96.14378245938731 | Steps: 566\n",
      "   87   1392 -9.365839999980021e+01 1.5e+00 3.18e-01  3e-01  3e-01 6:44.5\n",
      "Generation 86: Best Reward: 95.46859958931279 | Steps: 428\n",
      "Generation 87: Best Reward: 96.57497064469815 | Steps: 638\n",
      "Generation 88: Best Reward: 96.34738414166615 | Steps: 637\n",
      "Generation 89: Best Reward: 95.33756400393624 | Steps: 429\n",
      "Generation 90: Best Reward: 96.45839508965837 | Steps: 530\n",
      "Generation 91: Best Reward: 96.74687987045077 | Steps: 461\n",
      "Generation 92: Best Reward: 96.64250719360724 | Steps: 388\n",
      "Generation 93: Best Reward: 96.42050339358285 | Steps: 494\n",
      "Generation 94: Best Reward: 96.58187126302006 | Steps: 495\n",
      "Generation 95: Best Reward: 96.6429062288743 | Steps: 388\n",
      "   97   1552 -9.513445004606683e+01 1.6e+00 3.16e-01  3e-01  3e-01 7:13.9\n",
      "Generation 96: Best Reward: 96.26141163864827 | Steps: 388\n",
      "Generation 97: Best Reward: 95.4756212094658 | Steps: 392\n",
      "Generation 98: Best Reward: 96.57275717741673 | Steps: 387\n",
      "  100   1600 -9.457447598862643e+01 1.6e+00 3.20e-01  3e-01  3e-01 7:25.3\n",
      "Generation 99: Best Reward: 94.56195222027412 | Steps: 437\n"
     ]
    }
   ],
   "source": [
    "metrics, best_solution = train_cma_es(policy_net, env, max_generations=50)"
   ]
  },
  {
   "cell_type": "code",
   "execution_count": 15,
   "id": "3a747907-7c49-4dad-ba67-b85a74f3f03d",
   "metadata": {},
   "outputs": [
    {
     "data": {
      "application/vnd.plotly.v1+json": {
       "config": {
        "plotlyServerURL": "https://plot.ly"
       },
       "data": [
        {
         "hovertemplate": "variable=best_reward<br>Generation=%{x}<br>Reward=%{y}<extra></extra>",
         "legendgroup": "best_reward",
         "line": {
          "color": "#636efa",
          "dash": "solid"
         },
         "marker": {
          "symbol": "circle"
         },
         "mode": "lines+markers",
         "name": "best_reward",
         "orientation": "v",
         "showlegend": true,
         "type": "scatter",
         "x": [
          0,
          1,
          2,
          3,
          4,
          5,
          6,
          7,
          8,
          9,
          10,
          11,
          12,
          13,
          14,
          15,
          16,
          17,
          18,
          19,
          20,
          21,
          22,
          23,
          24,
          25,
          26,
          27,
          28,
          29,
          30,
          31,
          32,
          33,
          34,
          35,
          36,
          37,
          38,
          39,
          40,
          41,
          42,
          43,
          44,
          45,
          46,
          47,
          48,
          49,
          50,
          51,
          52,
          53,
          54,
          55,
          56,
          57,
          58,
          59,
          60,
          61,
          62,
          63,
          64,
          65,
          66,
          67,
          68,
          69,
          70,
          71,
          72,
          73,
          74,
          75,
          76,
          77,
          78,
          79,
          80,
          81,
          82,
          83,
          84,
          85,
          86,
          87,
          88,
          89,
          90,
          91,
          92,
          93,
          94,
          95,
          96,
          97,
          98,
          99
         ],
         "xaxis": "x",
         "y": [
          68.18823762358554,
          80.8088433899351,
          62.48644235072485,
          47.24998688227066,
          78.72297283210926,
          75.81921342467265,
          74.09313872905439,
          92.30188569748891,
          82.80585185686544,
          86.47942169235061,
          94.29625668696427,
          92.580663349373,
          91.90341074925509,
          94.45322460804027,
          92.6810573361932,
          91.06534501514747,
          94.4351916843073,
          94.69161864655673,
          88.60825401214144,
          90.74929003474507,
          87.7557803878154,
          90.36325713615693,
          96.65753619463145,
          90.13641689087046,
          80.84088224786719,
          84.10398786048948,
          95.01326291193146,
          93.52239255038927,
          93.06083422057051,
          95.59333813199031,
          96.302013047227,
          94.86873972081884,
          87.99313396952331,
          94.64103826560093,
          91.91491760668407,
          93.49238954871483,
          94.32147922687638,
          92.94942370011323,
          91.58261176762932,
          96.29555565263324,
          93.57026886386984,
          96.00321424817884,
          90.82732826735791,
          96.56391318355176,
          93.30926011007915,
          92.95768257791366,
          92.24998079419068,
          93.0518746391401,
          94.63710234134163,
          94.41931039209902,
          95.2158211005603,
          96.53434828116337,
          95.61402097909705,
          92.69824598652495,
          94.46210908658368,
          93.77573214633681,
          93.9800296184678,
          95.64446150152835,
          94.5404080375617,
          94.63767194383398,
          94.12825462764663,
          94.0938459340722,
          93.56998596654626,
          94.00264944278214,
          90.7065733297006,
          96.23718011707285,
          95.97100220917022,
          95.8495703968469,
          95.23649574306019,
          93.8232756867256,
          93.4106970116826,
          95.61236832143751,
          93.21206341069396,
          95.63828223403692,
          94.698847357906,
          93.82480892756992,
          94.40194172430944,
          94.55032980249342,
          95.32455399901872,
          93.34396817204812,
          95.92327917531739,
          93.89065204940371,
          95.567689539837,
          95.58080576274357,
          94.07388975656026,
          91.48657248547573,
          93.65839999980021,
          94.453518319523,
          95.14266708130612,
          95.52713830062693,
          94.90083532787082,
          95.76977847901766,
          96.0589787035366,
          95.0902689292536,
          94.59282949628552,
          96.24151124212051,
          95.13445004606683,
          93.52929686085437,
          94.27092128308463,
          94.57447598862643
         ],
         "yaxis": "y"
        },
        {
         "hovertemplate": "variable=worst_reward<br>Generation=%{x}<br>Reward=%{y}<extra></extra>",
         "legendgroup": "worst_reward",
         "line": {
          "color": "#EF553B",
          "dash": "solid"
         },
         "marker": {
          "symbol": "circle"
         },
         "mode": "lines+markers",
         "name": "worst_reward",
         "orientation": "v",
         "showlegend": true,
         "type": "scatter",
         "visible": "legendonly",
         "x": [
          0,
          1,
          2,
          3,
          4,
          5,
          6,
          7,
          8,
          9,
          10,
          11,
          12,
          13,
          14,
          15,
          16,
          17,
          18,
          19,
          20,
          21,
          22,
          23,
          24,
          25,
          26,
          27,
          28,
          29,
          30,
          31,
          32,
          33,
          34,
          35,
          36,
          37,
          38,
          39,
          40,
          41,
          42,
          43,
          44,
          45,
          46,
          47,
          48,
          49,
          50,
          51,
          52,
          53,
          54,
          55,
          56,
          57,
          58,
          59,
          60,
          61,
          62,
          63,
          64,
          65,
          66,
          67,
          68,
          69,
          70,
          71,
          72,
          73,
          74,
          75,
          76,
          77,
          78,
          79,
          80,
          81,
          82,
          83,
          84,
          85,
          86,
          87,
          88,
          89,
          90,
          91,
          92,
          93,
          94,
          95,
          96,
          97,
          98,
          99
         ],
         "xaxis": "x",
         "y": [
          -298.9947123043351,
          -293.761558805837,
          -290.2538325656622,
          -291.8627269655074,
          -299.10486374108746,
          -296.5970739354554,
          -299.9236813708476,
          -295.590378474063,
          -292.07539936324196,
          -295.1078019345547,
          -179.95151894751567,
          -298.8275359743525,
          -299.97411198804144,
          -296.6539480144708,
          -299.5050056653342,
          -295.7597368647027,
          -295.35019997753426,
          -299.993691227631,
          -290.53287027539943,
          -264.3148473108234,
          -299.9124367067536,
          -296.9842735840348,
          -299.0016240675103,
          -299.3400103773696,
          -247.07701737558335,
          -285.9325985175416,
          -299.8952419068798,
          -232.63500928515515,
          -298.97614233667736,
          -298.6395925473688,
          -299.33376096050364,
          -299.95981805638553,
          -299.44603129558595,
          -299.6903811414933,
          -298.68421065446927,
          -298.16493447464984,
          -195.4924318007505,
          -284.5093918826793,
          -206.59035589458847,
          -297.4313988752177,
          -246.7288703689457,
          -298.013599426942,
          -299.6048132685962,
          -290.6308089620585,
          -274.2764641107156,
          -281.419399005349,
          -299.1776365822811,
          -299.2712804913518,
          -299.3412677240436,
          -244.34804410310824,
          -278.9740310344988,
          -277.8488227722979,
          -298.63343845759306,
          -296.73106343592883,
          -296.5960978910231,
          -275.8844365766917,
          -299.77922012272813,
          -297.5678840681172,
          -299.11701180215243,
          -299.3483771210294,
          -300.05660422757455,
          -299.7461104095436,
          -297.9930176652855,
          -300.0795373036218,
          -300.06636228990834,
          -299.22336354888773,
          -291.31210728474423,
          -300.04113394524825,
          -299.9445651335554,
          -284.055526944124,
          -299.57925367719287,
          -299.92656332514235,
          -295.0508946722335,
          -299.00758677773507,
          -300.04982916460597,
          -298.70376398272447,
          -298.41743825356156,
          -299.81013291062936,
          -299.5598720823013,
          -299.7431629337452,
          -299.0020134500282,
          -299.778945964211,
          -300.09833746755754,
          -299.6335003089126,
          -299.5139282243931,
          -297.76694715710306,
          -224.30759023078687,
          -261.7330416317726,
          -220.00926389063298,
          -300.05608914029915,
          -208.92070819543113,
          -298.2338066419621,
          -299.23633725594686,
          -297.67796277493835,
          -299.9019938316169,
          -298.9414827796358,
          -298.2186104743134,
          -298.8299821358486,
          -299.86513434531895,
          -274.2766971484388
         ],
         "yaxis": "y"
        },
        {
         "hovertemplate": "variable=mean_reward<br>Generation=%{x}<br>Reward=%{y}<extra></extra>",
         "legendgroup": "mean_reward",
         "line": {
          "color": "#00cc96",
          "dash": "solid"
         },
         "marker": {
          "symbol": "circle"
         },
         "mode": "lines+markers",
         "name": "mean_reward",
         "orientation": "v",
         "showlegend": true,
         "type": "scatter",
         "visible": "legendonly",
         "x": [
          0,
          1,
          2,
          3,
          4,
          5,
          6,
          7,
          8,
          9,
          10,
          11,
          12,
          13,
          14,
          15,
          16,
          17,
          18,
          19,
          20,
          21,
          22,
          23,
          24,
          25,
          26,
          27,
          28,
          29,
          30,
          31,
          32,
          33,
          34,
          35,
          36,
          37,
          38,
          39,
          40,
          41,
          42,
          43,
          44,
          45,
          46,
          47,
          48,
          49,
          50,
          51,
          52,
          53,
          54,
          55,
          56,
          57,
          58,
          59,
          60,
          61,
          62,
          63,
          64,
          65,
          66,
          67,
          68,
          69,
          70,
          71,
          72,
          73,
          74,
          75,
          76,
          77,
          78,
          79,
          80,
          81,
          82,
          83,
          84,
          85,
          86,
          87,
          88,
          89,
          90,
          91,
          92,
          93,
          94,
          95,
          96,
          97,
          98,
          99
         ],
         "xaxis": "x",
         "y": [
          -124.38015264713836,
          -130.81579193878912,
          -94.74945756841674,
          -160.28043208474645,
          -104.92535747427489,
          -64.4023294341791,
          -125.2856669322765,
          -65.69039173035581,
          -64.64265832635047,
          -40.220169964197545,
          2.8306849194243853,
          -32.427840812564604,
          -108.91934567822884,
          -19.41075829130743,
          -113.23576342611364,
          -21.809701585730963,
          -131.05652776267718,
          -51.15040522112565,
          -106.09502794738324,
          -56.616958371631874,
          -120.72440083931559,
          -38.80250301676242,
          -57.45075533520248,
          -49.662424137712804,
          -37.48426910922212,
          -58.48641434928027,
          -78.02935205306211,
          -14.655722279053073,
          -25.72757600236489,
          -18.831573986784385,
          -84.90634433277299,
          -143.8383284095798,
          -101.84805151005826,
          -40.4417369445366,
          -75.19505598756233,
          -115.94430376318111,
          32.09302142130271,
          -17.905661619933745,
          38.75644512919975,
          -92.30226230350738,
          -22.960887428241826,
          -54.88077442990073,
          -51.51118648477805,
          24.823250587903217,
          -8.204870905855543,
          -25.07832426127018,
          -12.904227896911568,
          -77.3642360262065,
          -25.39345902651076,
          46.7757903029125,
          -40.00425750497912,
          -1.1887707020330032,
          -58.11842461907039,
          -34.286908216692595,
          -64.34691879840605,
          13.122227065667722,
          -74.16427289812093,
          -47.398820552889,
          11.558074923963389,
          -35.855699810479514,
          -19.68176342802529,
          -60.867135104739404,
          -66.75171417060746,
          -9.632068876721009,
          -87.59461514897652,
          -24.402074878018922,
          -13.044752014341494,
          -65.56955540599897,
          -32.332726356699396,
          29.45912309470868,
          -11.50011987877466,
          -68.42839411472062,
          -20.75941917589698,
          -83.8833601546134,
          -11.776916411714446,
          -24.345981969903157,
          -14.279883658623017,
          -95.9166535050337,
          19.730016816069284,
          -91.99016670684054,
          9.090331162078845,
          -55.31501041825179,
          -21.08746476631599,
          -87.19594113892222,
          -54.855466818999695,
          -44.76006748126272,
          -0.6498849667680755,
          55.30399319432176,
          25.360845793765748,
          -43.92437559400891,
          20.319769750265216,
          -2.5584734377913927,
          -38.77629290581784,
          14.342800359487338,
          -30.395338149277553,
          -21.131051136076955,
          -52.62275224565498,
          -84.50220610811044,
          -73.94755030686882,
          36.90320258175973
         ],
         "yaxis": "y"
        }
       ],
       "layout": {
        "height": 500,
        "legend": {
         "title": {
          "text": "variable"
         },
         "tracegroupgap": 0
        },
        "template": {
         "data": {
          "bar": [
           {
            "error_x": {
             "color": "#2a3f5f"
            },
            "error_y": {
             "color": "#2a3f5f"
            },
            "marker": {
             "line": {
              "color": "#E5ECF6",
              "width": 0.5
             },
             "pattern": {
              "fillmode": "overlay",
              "size": 10,
              "solidity": 0.2
             }
            },
            "type": "bar"
           }
          ],
          "barpolar": [
           {
            "marker": {
             "line": {
              "color": "#E5ECF6",
              "width": 0.5
             },
             "pattern": {
              "fillmode": "overlay",
              "size": 10,
              "solidity": 0.2
             }
            },
            "type": "barpolar"
           }
          ],
          "carpet": [
           {
            "aaxis": {
             "endlinecolor": "#2a3f5f",
             "gridcolor": "white",
             "linecolor": "white",
             "minorgridcolor": "white",
             "startlinecolor": "#2a3f5f"
            },
            "baxis": {
             "endlinecolor": "#2a3f5f",
             "gridcolor": "white",
             "linecolor": "white",
             "minorgridcolor": "white",
             "startlinecolor": "#2a3f5f"
            },
            "type": "carpet"
           }
          ],
          "choropleth": [
           {
            "colorbar": {
             "outlinewidth": 0,
             "ticks": ""
            },
            "type": "choropleth"
           }
          ],
          "contour": [
           {
            "colorbar": {
             "outlinewidth": 0,
             "ticks": ""
            },
            "colorscale": [
             [
              0,
              "#0d0887"
             ],
             [
              0.1111111111111111,
              "#46039f"
             ],
             [
              0.2222222222222222,
              "#7201a8"
             ],
             [
              0.3333333333333333,
              "#9c179e"
             ],
             [
              0.4444444444444444,
              "#bd3786"
             ],
             [
              0.5555555555555556,
              "#d8576b"
             ],
             [
              0.6666666666666666,
              "#ed7953"
             ],
             [
              0.7777777777777778,
              "#fb9f3a"
             ],
             [
              0.8888888888888888,
              "#fdca26"
             ],
             [
              1,
              "#f0f921"
             ]
            ],
            "type": "contour"
           }
          ],
          "contourcarpet": [
           {
            "colorbar": {
             "outlinewidth": 0,
             "ticks": ""
            },
            "type": "contourcarpet"
           }
          ],
          "heatmap": [
           {
            "colorbar": {
             "outlinewidth": 0,
             "ticks": ""
            },
            "colorscale": [
             [
              0,
              "#0d0887"
             ],
             [
              0.1111111111111111,
              "#46039f"
             ],
             [
              0.2222222222222222,
              "#7201a8"
             ],
             [
              0.3333333333333333,
              "#9c179e"
             ],
             [
              0.4444444444444444,
              "#bd3786"
             ],
             [
              0.5555555555555556,
              "#d8576b"
             ],
             [
              0.6666666666666666,
              "#ed7953"
             ],
             [
              0.7777777777777778,
              "#fb9f3a"
             ],
             [
              0.8888888888888888,
              "#fdca26"
             ],
             [
              1,
              "#f0f921"
             ]
            ],
            "type": "heatmap"
           }
          ],
          "heatmapgl": [
           {
            "colorbar": {
             "outlinewidth": 0,
             "ticks": ""
            },
            "colorscale": [
             [
              0,
              "#0d0887"
             ],
             [
              0.1111111111111111,
              "#46039f"
             ],
             [
              0.2222222222222222,
              "#7201a8"
             ],
             [
              0.3333333333333333,
              "#9c179e"
             ],
             [
              0.4444444444444444,
              "#bd3786"
             ],
             [
              0.5555555555555556,
              "#d8576b"
             ],
             [
              0.6666666666666666,
              "#ed7953"
             ],
             [
              0.7777777777777778,
              "#fb9f3a"
             ],
             [
              0.8888888888888888,
              "#fdca26"
             ],
             [
              1,
              "#f0f921"
             ]
            ],
            "type": "heatmapgl"
           }
          ],
          "histogram": [
           {
            "marker": {
             "pattern": {
              "fillmode": "overlay",
              "size": 10,
              "solidity": 0.2
             }
            },
            "type": "histogram"
           }
          ],
          "histogram2d": [
           {
            "colorbar": {
             "outlinewidth": 0,
             "ticks": ""
            },
            "colorscale": [
             [
              0,
              "#0d0887"
             ],
             [
              0.1111111111111111,
              "#46039f"
             ],
             [
              0.2222222222222222,
              "#7201a8"
             ],
             [
              0.3333333333333333,
              "#9c179e"
             ],
             [
              0.4444444444444444,
              "#bd3786"
             ],
             [
              0.5555555555555556,
              "#d8576b"
             ],
             [
              0.6666666666666666,
              "#ed7953"
             ],
             [
              0.7777777777777778,
              "#fb9f3a"
             ],
             [
              0.8888888888888888,
              "#fdca26"
             ],
             [
              1,
              "#f0f921"
             ]
            ],
            "type": "histogram2d"
           }
          ],
          "histogram2dcontour": [
           {
            "colorbar": {
             "outlinewidth": 0,
             "ticks": ""
            },
            "colorscale": [
             [
              0,
              "#0d0887"
             ],
             [
              0.1111111111111111,
              "#46039f"
             ],
             [
              0.2222222222222222,
              "#7201a8"
             ],
             [
              0.3333333333333333,
              "#9c179e"
             ],
             [
              0.4444444444444444,
              "#bd3786"
             ],
             [
              0.5555555555555556,
              "#d8576b"
             ],
             [
              0.6666666666666666,
              "#ed7953"
             ],
             [
              0.7777777777777778,
              "#fb9f3a"
             ],
             [
              0.8888888888888888,
              "#fdca26"
             ],
             [
              1,
              "#f0f921"
             ]
            ],
            "type": "histogram2dcontour"
           }
          ],
          "mesh3d": [
           {
            "colorbar": {
             "outlinewidth": 0,
             "ticks": ""
            },
            "type": "mesh3d"
           }
          ],
          "parcoords": [
           {
            "line": {
             "colorbar": {
              "outlinewidth": 0,
              "ticks": ""
             }
            },
            "type": "parcoords"
           }
          ],
          "pie": [
           {
            "automargin": true,
            "type": "pie"
           }
          ],
          "scatter": [
           {
            "fillpattern": {
             "fillmode": "overlay",
             "size": 10,
             "solidity": 0.2
            },
            "type": "scatter"
           }
          ],
          "scatter3d": [
           {
            "line": {
             "colorbar": {
              "outlinewidth": 0,
              "ticks": ""
             }
            },
            "marker": {
             "colorbar": {
              "outlinewidth": 0,
              "ticks": ""
             }
            },
            "type": "scatter3d"
           }
          ],
          "scattercarpet": [
           {
            "marker": {
             "colorbar": {
              "outlinewidth": 0,
              "ticks": ""
             }
            },
            "type": "scattercarpet"
           }
          ],
          "scattergeo": [
           {
            "marker": {
             "colorbar": {
              "outlinewidth": 0,
              "ticks": ""
             }
            },
            "type": "scattergeo"
           }
          ],
          "scattergl": [
           {
            "marker": {
             "colorbar": {
              "outlinewidth": 0,
              "ticks": ""
             }
            },
            "type": "scattergl"
           }
          ],
          "scattermapbox": [
           {
            "marker": {
             "colorbar": {
              "outlinewidth": 0,
              "ticks": ""
             }
            },
            "type": "scattermapbox"
           }
          ],
          "scatterpolar": [
           {
            "marker": {
             "colorbar": {
              "outlinewidth": 0,
              "ticks": ""
             }
            },
            "type": "scatterpolar"
           }
          ],
          "scatterpolargl": [
           {
            "marker": {
             "colorbar": {
              "outlinewidth": 0,
              "ticks": ""
             }
            },
            "type": "scatterpolargl"
           }
          ],
          "scatterternary": [
           {
            "marker": {
             "colorbar": {
              "outlinewidth": 0,
              "ticks": ""
             }
            },
            "type": "scatterternary"
           }
          ],
          "surface": [
           {
            "colorbar": {
             "outlinewidth": 0,
             "ticks": ""
            },
            "colorscale": [
             [
              0,
              "#0d0887"
             ],
             [
              0.1111111111111111,
              "#46039f"
             ],
             [
              0.2222222222222222,
              "#7201a8"
             ],
             [
              0.3333333333333333,
              "#9c179e"
             ],
             [
              0.4444444444444444,
              "#bd3786"
             ],
             [
              0.5555555555555556,
              "#d8576b"
             ],
             [
              0.6666666666666666,
              "#ed7953"
             ],
             [
              0.7777777777777778,
              "#fb9f3a"
             ],
             [
              0.8888888888888888,
              "#fdca26"
             ],
             [
              1,
              "#f0f921"
             ]
            ],
            "type": "surface"
           }
          ],
          "table": [
           {
            "cells": {
             "fill": {
              "color": "#EBF0F8"
             },
             "line": {
              "color": "white"
             }
            },
            "header": {
             "fill": {
              "color": "#C8D4E3"
             },
             "line": {
              "color": "white"
             }
            },
            "type": "table"
           }
          ]
         },
         "layout": {
          "annotationdefaults": {
           "arrowcolor": "#2a3f5f",
           "arrowhead": 0,
           "arrowwidth": 1
          },
          "autotypenumbers": "strict",
          "coloraxis": {
           "colorbar": {
            "outlinewidth": 0,
            "ticks": ""
           }
          },
          "colorscale": {
           "diverging": [
            [
             0,
             "#8e0152"
            ],
            [
             0.1,
             "#c51b7d"
            ],
            [
             0.2,
             "#de77ae"
            ],
            [
             0.3,
             "#f1b6da"
            ],
            [
             0.4,
             "#fde0ef"
            ],
            [
             0.5,
             "#f7f7f7"
            ],
            [
             0.6,
             "#e6f5d0"
            ],
            [
             0.7,
             "#b8e186"
            ],
            [
             0.8,
             "#7fbc41"
            ],
            [
             0.9,
             "#4d9221"
            ],
            [
             1,
             "#276419"
            ]
           ],
           "sequential": [
            [
             0,
             "#0d0887"
            ],
            [
             0.1111111111111111,
             "#46039f"
            ],
            [
             0.2222222222222222,
             "#7201a8"
            ],
            [
             0.3333333333333333,
             "#9c179e"
            ],
            [
             0.4444444444444444,
             "#bd3786"
            ],
            [
             0.5555555555555556,
             "#d8576b"
            ],
            [
             0.6666666666666666,
             "#ed7953"
            ],
            [
             0.7777777777777778,
             "#fb9f3a"
            ],
            [
             0.8888888888888888,
             "#fdca26"
            ],
            [
             1,
             "#f0f921"
            ]
           ],
           "sequentialminus": [
            [
             0,
             "#0d0887"
            ],
            [
             0.1111111111111111,
             "#46039f"
            ],
            [
             0.2222222222222222,
             "#7201a8"
            ],
            [
             0.3333333333333333,
             "#9c179e"
            ],
            [
             0.4444444444444444,
             "#bd3786"
            ],
            [
             0.5555555555555556,
             "#d8576b"
            ],
            [
             0.6666666666666666,
             "#ed7953"
            ],
            [
             0.7777777777777778,
             "#fb9f3a"
            ],
            [
             0.8888888888888888,
             "#fdca26"
            ],
            [
             1,
             "#f0f921"
            ]
           ]
          },
          "colorway": [
           "#636efa",
           "#EF553B",
           "#00cc96",
           "#ab63fa",
           "#FFA15A",
           "#19d3f3",
           "#FF6692",
           "#B6E880",
           "#FF97FF",
           "#FECB52"
          ],
          "font": {
           "color": "#2a3f5f"
          },
          "geo": {
           "bgcolor": "white",
           "lakecolor": "white",
           "landcolor": "#E5ECF6",
           "showlakes": true,
           "showland": true,
           "subunitcolor": "white"
          },
          "hoverlabel": {
           "align": "left"
          },
          "hovermode": "closest",
          "mapbox": {
           "style": "light"
          },
          "paper_bgcolor": "white",
          "plot_bgcolor": "#E5ECF6",
          "polar": {
           "angularaxis": {
            "gridcolor": "white",
            "linecolor": "white",
            "ticks": ""
           },
           "bgcolor": "#E5ECF6",
           "radialaxis": {
            "gridcolor": "white",
            "linecolor": "white",
            "ticks": ""
           }
          },
          "scene": {
           "xaxis": {
            "backgroundcolor": "#E5ECF6",
            "gridcolor": "white",
            "gridwidth": 2,
            "linecolor": "white",
            "showbackground": true,
            "ticks": "",
            "zerolinecolor": "white"
           },
           "yaxis": {
            "backgroundcolor": "#E5ECF6",
            "gridcolor": "white",
            "gridwidth": 2,
            "linecolor": "white",
            "showbackground": true,
            "ticks": "",
            "zerolinecolor": "white"
           },
           "zaxis": {
            "backgroundcolor": "#E5ECF6",
            "gridcolor": "white",
            "gridwidth": 2,
            "linecolor": "white",
            "showbackground": true,
            "ticks": "",
            "zerolinecolor": "white"
           }
          },
          "shapedefaults": {
           "line": {
            "color": "#2a3f5f"
           }
          },
          "ternary": {
           "aaxis": {
            "gridcolor": "white",
            "linecolor": "white",
            "ticks": ""
           },
           "baxis": {
            "gridcolor": "white",
            "linecolor": "white",
            "ticks": ""
           },
           "bgcolor": "#E5ECF6",
           "caxis": {
            "gridcolor": "white",
            "linecolor": "white",
            "ticks": ""
           }
          },
          "title": {
           "x": 0.05
          },
          "xaxis": {
           "automargin": true,
           "gridcolor": "white",
           "linecolor": "white",
           "ticks": "",
           "title": {
            "standoff": 15
           },
           "zerolinecolor": "white",
           "zerolinewidth": 2
          },
          "yaxis": {
           "automargin": true,
           "gridcolor": "white",
           "linecolor": "white",
           "ticks": "",
           "title": {
            "standoff": 15
           },
           "zerolinecolor": "white",
           "zerolinewidth": 2
          }
         }
        },
        "title": {
         "text": "CMA-ES Training Rewards Over Generations"
        },
        "width": 1100,
        "xaxis": {
         "anchor": "y",
         "autorange": true,
         "domain": [
          0,
          1
         ],
         "range": [
          -6.030683133925126,
          105.03068313392512
         ],
         "title": {
          "text": "Generation"
         },
         "type": "linear"
        },
        "yaxis": {
         "anchor": "x",
         "autorange": true,
         "domain": [
          0,
          1
         ],
         "range": [
          43.771202215892316,
          100.13632086100979
         ],
         "title": {
          "text": "Reward"
         },
         "type": "linear"
        }
       }
      },
      "image/png": "[encoded data removed]",
      "text/html": [
       "<div>                            <div id=\"44c0b003-a359-494a-bee9-22f14cad304f\" class=\"plotly-graph-div\" style=\"height:500px; width:1100px;\"></div>            <script type=\"text/javascript\">                require([\"plotly\"], function(Plotly) {                    window.PLOTLYENV=window.PLOTLYENV || {};                                    if (document.getElementById(\"44c0b003-a359-494a-bee9-22f14cad304f\")) {                    Plotly.newPlot(                        \"44c0b003-a359-494a-bee9-22f14cad304f\",                        [{\"hovertemplate\":\"variable=best_reward\\u003cbr\\u003eGeneration=%{x}\\u003cbr\\u003eReward=%{y}\\u003cextra\\u003e\\u003c\\u002fextra\\u003e\",\"legendgroup\":\"best_reward\",\"line\":{\"color\":\"#636efa\",\"dash\":\"solid\"},\"marker\":{\"symbol\":\"circle\"},\"mode\":\"lines+markers\",\"name\":\"best_reward\",\"orientation\":\"v\",\"showlegend\":true,\"x\":[0,1,2,3,4,5,6,7,8,9,10,11,12,13,14,15,16,17,18,19,20,21,22,23,24,25,26,27,28,29,30,31,32,33,34,35,36,37,38,39,40,41,42,43,44,45,46,47,48,49,50,51,52,53,54,55,56,57,58,59,60,61,62,63,64,65,66,67,68,69,70,71,72,73,74,75,76,77,78,79,80,81,82,83,84,85,86,87,88,89,90,91,92,93,94,95,96,97,98,99],\"xaxis\":\"x\",\"y\":[68.18823762358554,80.8088433899351,62.48644235072485,47.24998688227066,78.72297283210926,75.81921342467265,74.09313872905439,92.30188569748891,82.80585185686544,86.47942169235061,94.29625668696427,92.580663349373,91.90341074925509,94.45322460804027,92.6810573361932,91.06534501514747,94.4351916843073,94.69161864655673,88.60825401214144,90.74929003474507,87.7557803878154,90.36325713615693,96.65753619463145,90.13641689087046,80.84088224786719,84.10398786048948,95.01326291193146,93.52239255038927,93.06083422057051,95.59333813199031,96.302013047227,94.86873972081884,87.99313396952331,94.64103826560093,91.91491760668407,93.49238954871483,94.32147922687638,92.94942370011323,91.58261176762932,96.29555565263324,93.57026886386984,96.00321424817884,90.82732826735791,96.56391318355176,93.30926011007915,92.95768257791366,92.24998079419068,93.0518746391401,94.63710234134163,94.41931039209902,95.2158211005603,96.53434828116337,95.61402097909705,92.69824598652495,94.46210908658368,93.77573214633681,93.9800296184678,95.64446150152835,94.5404080375617,94.63767194383398,94.12825462764663,94.0938459340722,93.56998596654626,94.00264944278214,90.7065733297006,96.23718011707285,95.97100220917022,95.8495703968469,95.23649574306019,93.8232756867256,93.4106970116826,95.61236832143751,93.21206341069396,95.63828223403692,94.698847357906,93.82480892756992,94.40194172430944,94.55032980249342,95.32455399901872,93.34396817204812,95.92327917531739,93.89065204940371,95.567689539837,95.58080576274357,94.07388975656026,91.48657248547573,93.65839999980021,94.453518319523,95.14266708130612,95.52713830062693,94.90083532787082,95.76977847901766,96.0589787035366,95.0902689292536,94.59282949628552,96.24151124212051,95.13445004606683,93.52929686085437,94.27092128308463,94.57447598862643],\"yaxis\":\"y\",\"type\":\"scatter\"},{\"hovertemplate\":\"variable=worst_reward\\u003cbr\\u003eGeneration=%{x}\\u003cbr\\u003eReward=%{y}\\u003cextra\\u003e\\u003c\\u002fextra\\u003e\",\"legendgroup\":\"worst_reward\",\"line\":{\"color\":\"#EF553B\",\"dash\":\"solid\"},\"marker\":{\"symbol\":\"circle\"},\"mode\":\"lines+markers\",\"name\":\"worst_reward\",\"orientation\":\"v\",\"showlegend\":true,\"x\":[0,1,2,3,4,5,6,7,8,9,10,11,12,13,14,15,16,17,18,19,20,21,22,23,24,25,26,27,28,29,30,31,32,33,34,35,36,37,38,39,40,41,42,43,44,45,46,47,48,49,50,51,52,53,54,55,56,57,58,59,60,61,62,63,64,65,66,67,68,69,70,71,72,73,74,75,76,77,78,79,80,81,82,83,84,85,86,87,88,89,90,91,92,93,94,95,96,97,98,99],\"xaxis\":\"x\",\"y\":[-298.9947123043351,-293.761558805837,-290.2538325656622,-291.8627269655074,-299.10486374108746,-296.5970739354554,-299.9236813708476,-295.590378474063,-292.07539936324196,-295.1078019345547,-179.95151894751567,-298.8275359743525,-299.97411198804144,-296.6539480144708,-299.5050056653342,-295.7597368647027,-295.35019997753426,-299.993691227631,-290.53287027539943,-264.3148473108234,-299.9124367067536,-296.9842735840348,-299.0016240675103,-299.3400103773696,-247.07701737558335,-285.9325985175416,-299.8952419068798,-232.63500928515515,-298.97614233667736,-298.6395925473688,-299.33376096050364,-299.95981805638553,-299.44603129558595,-299.6903811414933,-298.68421065446927,-298.16493447464984,-195.4924318007505,-284.5093918826793,-206.59035589458847,-297.4313988752177,-246.7288703689457,-298.013599426942,-299.6048132685962,-290.6308089620585,-274.2764641107156,-281.419399005349,-299.1776365822811,-299.2712804913518,-299.3412677240436,-244.34804410310824,-278.9740310344988,-277.8488227722979,-298.63343845759306,-296.73106343592883,-296.5960978910231,-275.8844365766917,-299.77922012272813,-297.5678840681172,-299.11701180215243,-299.3483771210294,-300.05660422757455,-299.7461104095436,-297.9930176652855,-300.0795373036218,-300.06636228990834,-299.22336354888773,-291.31210728474423,-300.04113394524825,-299.9445651335554,-284.055526944124,-299.57925367719287,-299.92656332514235,-295.0508946722335,-299.00758677773507,-300.04982916460597,-298.70376398272447,-298.41743825356156,-299.81013291062936,-299.5598720823013,-299.7431629337452,-299.0020134500282,-299.778945964211,-300.09833746755754,-299.6335003089126,-299.5139282243931,-297.76694715710306,-224.30759023078687,-261.7330416317726,-220.00926389063298,-300.05608914029915,-208.92070819543113,-298.2338066419621,-299.23633725594686,-297.67796277493835,-299.9019938316169,-298.9414827796358,-298.2186104743134,-298.8299821358486,-299.86513434531895,-274.2766971484388],\"yaxis\":\"y\",\"type\":\"scatter\"},{\"hovertemplate\":\"variable=mean_reward\\u003cbr\\u003eGeneration=%{x}\\u003cbr\\u003eReward=%{y}\\u003cextra\\u003e\\u003c\\u002fextra\\u003e\",\"legendgroup\":\"mean_reward\",\"line\":{\"color\":\"#00cc96\",\"dash\":\"solid\"},\"marker\":{\"symbol\":\"circle\"},\"mode\":\"lines+markers\",\"name\":\"mean_reward\",\"orientation\":\"v\",\"showlegend\":true,\"x\":[0,1,2,3,4,5,6,7,8,9,10,11,12,13,14,15,16,17,18,19,20,21,22,23,24,25,26,27,28,29,30,31,32,33,34,35,36,37,38,39,40,41,42,43,44,45,46,47,48,49,50,51,52,53,54,55,56,57,58,59,60,61,62,63,64,65,66,67,68,69,70,71,72,73,74,75,76,77,78,79,80,81,82,83,84,85,86,87,88,89,90,91,92,93,94,95,96,97,98,99],\"xaxis\":\"x\",\"y\":[-124.38015264713836,-130.81579193878912,-94.74945756841674,-160.28043208474645,-104.92535747427489,-64.4023294341791,-125.2856669322765,-65.69039173035581,-64.64265832635047,-40.220169964197545,2.8306849194243853,-32.427840812564604,-108.91934567822884,-19.41075829130743,-113.23576342611364,-21.809701585730963,-131.05652776267718,-51.15040522112565,-106.09502794738324,-56.616958371631874,-120.72440083931559,-38.80250301676242,-57.45075533520248,-49.662424137712804,-37.48426910922212,-58.48641434928027,-78.02935205306211,-14.655722279053073,-25.72757600236489,-18.831573986784385,-84.90634433277299,-143.8383284095798,-101.84805151005826,-40.4417369445366,-75.19505598756233,-115.94430376318111,32.09302142130271,-17.905661619933745,38.75644512919975,-92.30226230350738,-22.960887428241826,-54.88077442990073,-51.51118648477805,24.823250587903217,-8.204870905855543,-25.07832426127018,-12.904227896911568,-77.3642360262065,-25.39345902651076,46.7757903029125,-40.00425750497912,-1.1887707020330032,-58.11842461907039,-34.286908216692595,-64.34691879840605,13.122227065667722,-74.16427289812093,-47.398820552889,11.558074923963389,-35.855699810479514,-19.68176342802529,-60.867135104739404,-66.75171417060746,-9.632068876721009,-87.59461514897652,-24.402074878018922,-13.044752014341494,-65.56955540599897,-32.332726356699396,29.45912309470868,-11.50011987877466,-68.42839411472062,-20.75941917589698,-83.8833601546134,-11.776916411714446,-24.345981969903157,-14.279883658623017,-95.9166535050337,19.730016816069284,-91.99016670684054,9.090331162078845,-55.31501041825179,-21.08746476631599,-87.19594113892222,-54.855466818999695,-44.76006748126272,-0.6498849667680755,55.30399319432176,25.360845793765748,-43.92437559400891,20.319769750265216,-2.5584734377913927,-38.77629290581784,14.342800359487338,-30.395338149277553,-21.131051136076955,-52.62275224565498,-84.50220610811044,-73.94755030686882,36.90320258175973],\"yaxis\":\"y\",\"type\":\"scatter\"}],                        {\"template\":{\"data\":{\"histogram2dcontour\":[{\"type\":\"histogram2dcontour\",\"colorbar\":{\"outlinewidth\":0,\"ticks\":\"\"},\"colorscale\":[[0.0,\"#0d0887\"],[0.1111111111111111,\"#46039f\"],[0.2222222222222222,\"#7201a8\"],[0.3333333333333333,\"#9c179e\"],[0.4444444444444444,\"#bd3786\"],[0.5555555555555556,\"#d8576b\"],[0.6666666666666666,\"#ed7953\"],[0.7777777777777778,\"#fb9f3a\"],[0.8888888888888888,\"#fdca26\"],[1.0,\"#f0f921\"]]}],\"choropleth\":[{\"type\":\"choropleth\",\"colorbar\":{\"outlinewidth\":0,\"ticks\":\"\"}}],\"histogram2d\":[{\"type\":\"histogram2d\",\"colorbar\":{\"outlinewidth\":0,\"ticks\":\"\"},\"colorscale\":[[0.0,\"#0d0887\"],[0.1111111111111111,\"#46039f\"],[0.2222222222222222,\"#7201a8\"],[0.3333333333333333,\"#9c179e\"],[0.4444444444444444,\"#bd3786\"],[0.5555555555555556,\"#d8576b\"],[0.6666666666666666,\"#ed7953\"],[0.7777777777777778,\"#fb9f3a\"],[0.8888888888888888,\"#fdca26\"],[1.0,\"#f0f921\"]]}],\"heatmap\":[{\"type\":\"heatmap\",\"colorbar\":{\"outlinewidth\":0,\"ticks\":\"\"},\"colorscale\":[[0.0,\"#0d0887\"],[0.1111111111111111,\"#46039f\"],[0.2222222222222222,\"#7201a8\"],[0.3333333333333333,\"#9c179e\"],[0.4444444444444444,\"#bd3786\"],[0.5555555555555556,\"#d8576b\"],[0.6666666666666666,\"#ed7953\"],[0.7777777777777778,\"#fb9f3a\"],[0.8888888888888888,\"#fdca26\"],[1.0,\"#f0f921\"]]}],\"heatmapgl\":[{\"type\":\"heatmapgl\",\"colorbar\":{\"outlinewidth\":0,\"ticks\":\"\"},\"colorscale\":[[0.0,\"#0d0887\"],[0.1111111111111111,\"#46039f\"],[0.2222222222222222,\"#7201a8\"],[0.3333333333333333,\"#9c179e\"],[0.4444444444444444,\"#bd3786\"],[0.5555555555555556,\"#d8576b\"],[0.6666666666666666,\"#ed7953\"],[0.7777777777777778,\"#fb9f3a\"],[0.8888888888888888,\"#fdca26\"],[1.0,\"#f0f921\"]]}],\"contourcarpet\":[{\"type\":\"contourcarpet\",\"colorbar\":{\"outlinewidth\":0,\"ticks\":\"\"}}],\"contour\":[{\"type\":\"contour\",\"colorbar\":{\"outlinewidth\":0,\"ticks\":\"\"},\"colorscale\":[[0.0,\"#0d0887\"],[0.1111111111111111,\"#46039f\"],[0.2222222222222222,\"#7201a8\"],[0.3333333333333333,\"#9c179e\"],[0.4444444444444444,\"#bd3786\"],[0.5555555555555556,\"#d8576b\"],[0.6666666666666666,\"#ed7953\"],[0.7777777777777778,\"#fb9f3a\"],[0.8888888888888888,\"#fdca26\"],[1.0,\"#f0f921\"]]}],\"surface\":[{\"type\":\"surface\",\"colorbar\":{\"outlinewidth\":0,\"ticks\":\"\"},\"colorscale\":[[0.0,\"#0d0887\"],[0.1111111111111111,\"#46039f\"],[0.2222222222222222,\"#7201a8\"],[0.3333333333333333,\"#9c179e\"],[0.4444444444444444,\"#bd3786\"],[0.5555555555555556,\"#d8576b\"],[0.6666666666666666,\"#ed7953\"],[0.7777777777777778,\"#fb9f3a\"],[0.8888888888888888,\"#fdca26\"],[1.0,\"#f0f921\"]]}],\"mesh3d\":[{\"type\":\"mesh3d\",\"colorbar\":{\"outlinewidth\":0,\"ticks\":\"\"}}],\"scatter\":[{\"fillpattern\":{\"fillmode\":\"overlay\",\"size\":10,\"solidity\":0.2},\"type\":\"scatter\"}],\"parcoords\":[{\"type\":\"parcoords\",\"line\":{\"colorbar\":{\"outlinewidth\":0,\"ticks\":\"\"}}}],\"scatterpolargl\":[{\"type\":\"scatterpolargl\",\"marker\":{\"colorbar\":{\"outlinewidth\":0,\"ticks\":\"\"}}}],\"bar\":[{\"error_x\":{\"color\":\"#2a3f5f\"},\"error_y\":{\"color\":\"#2a3f5f\"},\"marker\":{\"line\":{\"color\":\"#E5ECF6\",\"width\":0.5},\"pattern\":{\"fillmode\":\"overlay\",\"size\":10,\"solidity\":0.2}},\"type\":\"bar\"}],\"scattergeo\":[{\"type\":\"scattergeo\",\"marker\":{\"colorbar\":{\"outlinewidth\":0,\"ticks\":\"\"}}}],\"scatterpolar\":[{\"type\":\"scatterpolar\",\"marker\":{\"colorbar\":{\"outlinewidth\":0,\"ticks\":\"\"}}}],\"histogram\":[{\"marker\":{\"pattern\":{\"fillmode\":\"overlay\",\"size\":10,\"solidity\":0.2}},\"type\":\"histogram\"}],\"scattergl\":[{\"type\":\"scattergl\",\"marker\":{\"colorbar\":{\"outlinewidth\":0,\"ticks\":\"\"}}}],\"scatter3d\":[{\"type\":\"scatter3d\",\"line\":{\"colorbar\":{\"outlinewidth\":0,\"ticks\":\"\"}},\"marker\":{\"colorbar\":{\"outlinewidth\":0,\"ticks\":\"\"}}}],\"scattermapbox\":[{\"type\":\"scattermapbox\",\"marker\":{\"colorbar\":{\"outlinewidth\":0,\"ticks\":\"\"}}}],\"scatterternary\":[{\"type\":\"scatterternary\",\"marker\":{\"colorbar\":{\"outlinewidth\":0,\"ticks\":\"\"}}}],\"scattercarpet\":[{\"type\":\"scattercarpet\",\"marker\":{\"colorbar\":{\"outlinewidth\":0,\"ticks\":\"\"}}}],\"carpet\":[{\"aaxis\":{\"endlinecolor\":\"#2a3f5f\",\"gridcolor\":\"white\",\"linecolor\":\"white\",\"minorgridcolor\":\"white\",\"startlinecolor\":\"#2a3f5f\"},\"baxis\":{\"endlinecolor\":\"#2a3f5f\",\"gridcolor\":\"white\",\"linecolor\":\"white\",\"minorgridcolor\":\"white\",\"startlinecolor\":\"#2a3f5f\"},\"type\":\"carpet\"}],\"table\":[{\"cells\":{\"fill\":{\"color\":\"#EBF0F8\"},\"line\":{\"color\":\"white\"}},\"header\":{\"fill\":{\"color\":\"#C8D4E3\"},\"line\":{\"color\":\"white\"}},\"type\":\"table\"}],\"barpolar\":[{\"marker\":{\"line\":{\"color\":\"#E5ECF6\",\"width\":0.5},\"pattern\":{\"fillmode\":\"overlay\",\"size\":10,\"solidity\":0.2}},\"type\":\"barpolar\"}],\"pie\":[{\"automargin\":true,\"type\":\"pie\"}]},\"layout\":{\"autotypenumbers\":\"strict\",\"colorway\":[\"#636efa\",\"#EF553B\",\"#00cc96\",\"#ab63fa\",\"#FFA15A\",\"#19d3f3\",\"#FF6692\",\"#B6E880\",\"#FF97FF\",\"#FECB52\"],\"font\":{\"color\":\"#2a3f5f\"},\"hovermode\":\"closest\",\"hoverlabel\":{\"align\":\"left\"},\"paper_bgcolor\":\"white\",\"plot_bgcolor\":\"#E5ECF6\",\"polar\":{\"bgcolor\":\"#E5ECF6\",\"angularaxis\":{\"gridcolor\":\"white\",\"linecolor\":\"white\",\"ticks\":\"\"},\"radialaxis\":{\"gridcolor\":\"white\",\"linecolor\":\"white\",\"ticks\":\"\"}},\"ternary\":{\"bgcolor\":\"#E5ECF6\",\"aaxis\":{\"gridcolor\":\"white\",\"linecolor\":\"white\",\"ticks\":\"\"},\"baxis\":{\"gridcolor\":\"white\",\"linecolor\":\"white\",\"ticks\":\"\"},\"caxis\":{\"gridcolor\":\"white\",\"linecolor\":\"white\",\"ticks\":\"\"}},\"coloraxis\":{\"colorbar\":{\"outlinewidth\":0,\"ticks\":\"\"}},\"colorscale\":{\"sequential\":[[0.0,\"#0d0887\"],[0.1111111111111111,\"#46039f\"],[0.2222222222222222,\"#7201a8\"],[0.3333333333333333,\"#9c179e\"],[0.4444444444444444,\"#bd3786\"],[0.5555555555555556,\"#d8576b\"],[0.6666666666666666,\"#ed7953\"],[0.7777777777777778,\"#fb9f3a\"],[0.8888888888888888,\"#fdca26\"],[1.0,\"#f0f921\"]],\"sequentialminus\":[[0.0,\"#0d0887\"],[0.1111111111111111,\"#46039f\"],[0.2222222222222222,\"#7201a8\"],[0.3333333333333333,\"#9c179e\"],[0.4444444444444444,\"#bd3786\"],[0.5555555555555556,\"#d8576b\"],[0.6666666666666666,\"#ed7953\"],[0.7777777777777778,\"#fb9f3a\"],[0.8888888888888888,\"#fdca26\"],[1.0,\"#f0f921\"]],\"diverging\":[[0,\"#8e0152\"],[0.1,\"#c51b7d\"],[0.2,\"#de77ae\"],[0.3,\"#f1b6da\"],[0.4,\"#fde0ef\"],[0.5,\"#f7f7f7\"],[0.6,\"#e6f5d0\"],[0.7,\"#b8e186\"],[0.8,\"#7fbc41\"],[0.9,\"#4d9221\"],[1,\"#276419\"]]},\"xaxis\":{\"gridcolor\":\"white\",\"linecolor\":\"white\",\"ticks\":\"\",\"title\":{\"standoff\":15},\"zerolinecolor\":\"white\",\"automargin\":true,\"zerolinewidth\":2},\"yaxis\":{\"gridcolor\":\"white\",\"linecolor\":\"white\",\"ticks\":\"\",\"title\":{\"standoff\":15},\"zerolinecolor\":\"white\",\"automargin\":true,\"zerolinewidth\":2},\"scene\":{\"xaxis\":{\"backgroundcolor\":\"#E5ECF6\",\"gridcolor\":\"white\",\"linecolor\":\"white\",\"showbackground\":true,\"ticks\":\"\",\"zerolinecolor\":\"white\",\"gridwidth\":2},\"yaxis\":{\"backgroundcolor\":\"#E5ECF6\",\"gridcolor\":\"white\",\"linecolor\":\"white\",\"showbackground\":true,\"ticks\":\"\",\"zerolinecolor\":\"white\",\"gridwidth\":2},\"zaxis\":{\"backgroundcolor\":\"#E5ECF6\",\"gridcolor\":\"white\",\"linecolor\":\"white\",\"showbackground\":true,\"ticks\":\"\",\"zerolinecolor\":\"white\",\"gridwidth\":2}},\"shapedefaults\":{\"line\":{\"color\":\"#2a3f5f\"}},\"annotationdefaults\":{\"arrowcolor\":\"#2a3f5f\",\"arrowhead\":0,\"arrowwidth\":1},\"geo\":{\"bgcolor\":\"white\",\"landcolor\":\"#E5ECF6\",\"subunitcolor\":\"white\",\"showland\":true,\"showlakes\":true,\"lakecolor\":\"white\"},\"title\":{\"x\":0.05},\"mapbox\":{\"style\":\"light\"}}},\"xaxis\":{\"anchor\":\"y\",\"domain\":[0.0,1.0],\"title\":{\"text\":\"Generation\"}},\"yaxis\":{\"anchor\":\"x\",\"domain\":[0.0,1.0],\"title\":{\"text\":\"Reward\"}},\"legend\":{\"title\":{\"text\":\"variable\"},\"tracegroupgap\":0},\"title\":{\"text\":\"CMA-ES Training Rewards Over Generations\"},\"height\":500,\"width\":1100},                        {\"responsive\": true}                    ).then(function(){\n",
       "                            \n",
       "var gd = document.getElementById('44c0b003-a359-494a-bee9-22f14cad304f');\n",
       "var x = new MutationObserver(function (mutations, observer) {{\n",
       "        var display = window.getComputedStyle(gd).display;\n",
       "        if (!display || display === 'none') {{\n",
       "            console.log([gd, 'removed!']);\n",
       "            Plotly.purge(gd);\n",
       "            observer.disconnect();\n",
       "        }}\n",
       "}});\n",
       "\n",
       "// Listen for the removal of the full notebook cells\n",
       "var notebookContainer = gd.closest('#notebook-container');\n",
       "if (notebookContainer) {{\n",
       "    x.observe(notebookContainer, {childList: true});\n",
       "}}\n",
       "\n",
       "// Listen for the clearing of the current output cell\n",
       "var outputEl = gd.closest('.output');\n",
       "if (outputEl) {{\n",
       "    x.observe(outputEl, {childList: true});\n",
       "}}\n",
       "\n",
       "                        })                };                });            </script>        </div>"
      ]
     },
     "metadata": {},
     "output_type": "display_data"
    }
   ],
   "source": [
    "# Convert metrics to DataFrame\n",
    "df_metrics = pd.DataFrame(metrics)\n",
    "\n",
    "# Plotting the results using Plotly\n",
    "fig = px.line(df_metrics, x='generation', y=['best_reward', 'worst_reward', 'mean_reward'],\n",
    "              title='CMA-ES Training Rewards Over Generations',\n",
    "              labels={'value': 'Reward', 'generation': 'Generation'},\n",
    "              markers=True)\n",
    "fig.update_layout(height=500, width=1100)\n",
    "fig.show()"
   ]
  },
  {
   "cell_type": "markdown",
   "id": "cc9835d9-bc25-45cb-8cd0-b3569258c5c2",
   "metadata": {},
   "source": [
    "### Policy Testing\n",
    "\n",
    "This section tests the performance of the trained policy network using the best parameters obtained from the CMA-ES optimization.\n",
    "\n",
    "##### Overview:\n",
    "- **Parameter Loading**: The best parameters are loaded into the policy network.\n",
    "- **Environment Setup**: The `MountainCarContinuous-v0` environment is created for testing."
   ]
  },
  {
   "cell_type": "code",
   "execution_count": 23,
   "id": "960f37d5-88d7-4213-bae3-d79a050fc67a",
   "metadata": {},
   "outputs": [
    {
     "name": "stderr",
     "output_type": "stream",
     "text": [
      "/home/bruno/anaconda3/envs/python9/lib/python3.9/site-packages/gym/wrappers/record_video.py:75: UserWarning:\n",
      "\n",
      "\u001b[33mWARN: Overwriting existing videos at /home/bruno/Documents/World Model/videos folder (try specifying a different `video_folder` for the `RecordVideo` wrapper if this is not desired)\u001b[0m\n",
      "\n",
      "/home/bruno/anaconda3/envs/python9/lib/python3.9/site-packages/gym/wrappers/monitoring/video_recorder.py:59: UserWarning:\n",
      "\n",
      "\u001b[33mWARN: Disabling video recorder because environment <TimeLimit<OrderEnforcing<PassiveEnvChecker<Continuous_MountainCarEnv<MountainCarContinuous-v0>>>>> was not initialized with any compatible video mode between `rgb_array` and `rgb_array_list`\u001b[0m\n",
      "\n",
      "/home/bruno/anaconda3/envs/python9/lib/python3.9/site-packages/gym/utils/passive_env_checker.py:233: DeprecationWarning:\n",
      "\n",
      "`np.bool8` is a deprecated alias for `np.bool_`.  (Deprecated NumPy 1.24)\n",
      "\n"
     ]
    },
    {
     "name": "stdout",
     "output_type": "stream",
     "text": [
      "Total steps: 354\n",
      "Total Reward during test: 95.81873742646476\n"
     ]
    }
   ],
   "source": [
    "import gym\n",
    "import torch\n",
    "import numpy as np\n",
    "\n",
    "# Create the environment for testing and wrap it to record video\n",
    "env = gym.make('MountainCarContinuous-v0', render_mode='human')\n",
    "env = gym.wrappers.RecordVideo(env, 'videos/', name_prefix='test_policy', episode_trigger=lambda x: True)\n",
    "\n",
    "def test_policy(env, policy_net):\n",
    "    state, _ = env.reset()  # Reset the environment\n",
    "    done = False\n",
    "    total_reward = 0\n",
    "    cnt = 0  # Step counter\n",
    "\n",
    "    while not done:\n",
    "        env.render()\n",
    "        action = policy_net.get_action(state)  # Get action from the policy network\n",
    "        state, reward, done, _, _ = env.step(action)  # Take action in the environment\n",
    "        total_reward += reward  # Accumulate reward\n",
    "        cnt += 1  # Increment step counter\n",
    "\n",
    "    env.close()  # Close the environment\n",
    "    print(f\"Total steps: {cnt}\")\n",
    "    return total_reward  # Return total reward\n",
    "\n",
    "# Run the test with the best parameters loaded\n",
    "test_reward = test_policy(env, policy_net)\n",
    "print(f\"Total Reward during test: {test_reward}\")"
   ]
  }
 ],
 "metadata": {
  "kernelspec": {
   "display_name": "Python 3 (ipykernel)",
   "language": "python",
   "name": "python3"
  },
  "language_info": {
   "codemirror_mode": {
    "name": "ipython",
    "version": 3
   },
   "file_extension": ".py",
   "mimetype": "text/x-python",
   "name": "python",
   "nbconvert_exporter": "python",
   "pygments_lexer": "ipython3",
   "version": "3.9.19"
  }
 },
 "nbformat": 4,
 "nbformat_minor": 5
}
